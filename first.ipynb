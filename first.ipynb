{
 "cells": [
  {
   "cell_type": "markdown",
   "id": "572623e0-b06b-4e7b-bf7a-5f40f4e32057",
   "metadata": {},
   "source": [
    "# My First Program"
   ]
  },
  {
   "cell_type": "code",
   "execution_count": 13,
   "id": "0ef6a79f-5269-49c0-bf3a-4f810fe5e90b",
   "metadata": {},
   "outputs": [
    {
     "data": {
      "text/plain": [
       "2"
      ]
     },
     "execution_count": 13,
     "metadata": {},
     "output_type": "execute_result"
    }
   ],
   "source": [
    "1+1"
   ]
  },
  {
   "cell_type": "code",
   "execution_count": 14,
   "id": "dc8854b5-919c-4c9d-bad3-a6c79402f83b",
   "metadata": {},
   "outputs": [],
   "source": [
    "x = min(5, 10, 25)"
   ]
  },
  {
   "cell_type": "code",
   "execution_count": 15,
   "id": "b5e5efe3-c8ea-4b8c-be6e-305b1c8a0423",
   "metadata": {},
   "outputs": [],
   "source": [
    "y = max(5, 10, 25)"
   ]
  },
  {
   "cell_type": "code",
   "execution_count": null,
   "id": "4c1d5436-bd46-4fd1-8420-48cfabda580e",
   "metadata": {},
   "outputs": [],
   "source": []
  },
  {
   "cell_type": "code",
   "execution_count": 16,
   "id": "a344ffe3-8788-41c0-a3c8-999e5a6e87cf",
   "metadata": {},
   "outputs": [
    {
     "name": "stdout",
     "output_type": "stream",
     "text": [
      "5\n"
     ]
    }
   ],
   "source": [
    "print(x)"
   ]
  },
  {
   "cell_type": "code",
   "execution_count": 17,
   "id": "658e37d4-72e8-458a-b00b-95dab4aaebd0",
   "metadata": {},
   "outputs": [
    {
     "name": "stdout",
     "output_type": "stream",
     "text": [
      "25\n"
     ]
    }
   ],
   "source": [
    "print(y)"
   ]
  },
  {
   "cell_type": "code",
   "execution_count": 18,
   "id": "cce765b5-e530-4ed9-bb98-48c508a6e086",
   "metadata": {},
   "outputs": [],
   "source": [
    "x = pow(4, 3)"
   ]
  },
  {
   "cell_type": "code",
   "execution_count": 19,
   "id": "4f53a596-bfe7-4dd4-81ae-c58e1fae13d7",
   "metadata": {},
   "outputs": [
    {
     "name": "stdout",
     "output_type": "stream",
     "text": [
      "64\n"
     ]
    }
   ],
   "source": [
    "print(x)"
   ]
  },
  {
   "cell_type": "code",
   "execution_count": 20,
   "id": "01c6fb26-92d0-4454-b9b2-3b68d373bca5",
   "metadata": {},
   "outputs": [],
   "source": [
    "l = pow(3, 2)"
   ]
  },
  {
   "cell_type": "code",
   "execution_count": 21,
   "id": "788ec11e-f76c-459b-a819-d8fdf4e5c236",
   "metadata": {},
   "outputs": [
    {
     "name": "stdout",
     "output_type": "stream",
     "text": [
      "9\n"
     ]
    }
   ],
   "source": [
    "print(l)"
   ]
  }
 ],
 "metadata": {
  "kernelspec": {
   "display_name": "Python 3 (ipykernel)",
   "language": "python",
   "name": "python3"
  },
  "language_info": {
   "codemirror_mode": {
    "name": "ipython",
    "version": 3
   },
   "file_extension": ".py",
   "mimetype": "text/x-python",
   "name": "python",
   "nbconvert_exporter": "python",
   "pygments_lexer": "ipython3",
   "version": "3.13.5"
  }
 },
 "nbformat": 4,
 "nbformat_minor": 5
}
