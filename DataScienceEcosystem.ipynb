{
 "cells": [
  {
   "cell_type": "markdown",
   "id": "3375657e-65b9-4a4c-baed-b4a9a7f466cd",
   "metadata": {},
   "source": [
    "# Data Science Tools and Ecosystem"
   ]
  },
  {
   "cell_type": "markdown",
   "id": "8243b597-5eb2-49a4-9214-112d7495b04f",
   "metadata": {},
   "source": [
    "## Author\n",
    "Jean-Claude KRIJESTORAC"
   ]
  },
  {
   "cell_type": "markdown",
   "id": "41c48101-44dc-439d-9d64-5843636853bc",
   "metadata": {},
   "source": [
    "## In this notebook, Data Science Tools and Ecosystem are summarized."
   ]
  },
  {
   "cell_type": "markdown",
   "id": "c1f1555c-9f03-4e68-a310-908c9afb812a",
   "metadata": {},
   "source": [
    "## **Objectives:**\n",
    "- List few Data Science languages\n",
    "- List few Data Science tools\n",
    "- Execute basic arithmetic expressions"
   ]
  },
  {
   "cell_type": "markdown",
   "id": "20902b4d-6262-431e-b6ba-338e48e572dc",
   "metadata": {},
   "source": [
    "### Some of the popular languages that Data Scientists use are:\n",
    "1. Python\n",
    "2. R\n",
    "3. C++"
   ]
  },
  {
   "cell_type": "markdown",
   "id": "3e3957de-fa31-4309-a44f-b1c99c1cfeaa",
   "metadata": {},
   "source": [
    "### Some of the commonly used libraries used by Data Scientists include:\n",
    "* For Python :\n",
    "    1. Panda\n",
    "    2. Numpy\n",
    "    3. Matplotlib\n",
    "    4. Seaborn\n",
    "    5. Scikit-learn\n",
    "* For R :\n",
    "    1. dplyr\n",
    "    2. ggplot2\n",
    "    3. tidyr\n",
    "    4. caret"
   ]
  },
  {
   "cell_type": "markdown",
   "id": "8cae5b5e-823d-4e54-bada-e397d3d9d67e",
   "metadata": {},
   "source": [
    "| Data Science Tools |\n",
    "|--------------------|\n",
    "|JupyterLab|\n",
    "|RStudio|\n",
    "|VS Code|"
   ]
  },
  {
   "cell_type": "markdown",
   "id": "c608e904-382b-4136-b47b-7654b5bda07f",
   "metadata": {},
   "source": [
    "### Below are a few examples of evaluating arithmetic expressions in Python"
   ]
  },
  {
   "cell_type": "code",
   "execution_count": 2,
   "id": "93b86fa3-0a1f-49cb-afc2-d68d0399e939",
   "metadata": {},
   "outputs": [],
   "source": [
    "# This a simple arithmetic expression to mutiply then add integers"
   ]
  },
  {
   "cell_type": "code",
   "execution_count": 3,
   "id": "de059f14-bc4b-422d-af3a-132340432964",
   "metadata": {},
   "outputs": [
    {
     "data": {
      "text/plain": [
       "17"
      ]
     },
     "execution_count": 3,
     "metadata": {},
     "output_type": "execute_result"
    }
   ],
   "source": [
    "3*4+5"
   ]
  },
  {
   "cell_type": "code",
   "execution_count": 4,
   "id": "256c06a1-e053-4aa9-88a5-a1c43e3ee011",
   "metadata": {},
   "outputs": [],
   "source": [
    "# This will convert 200 minutes to hours by diving by 60"
   ]
  },
  {
   "cell_type": "code",
   "execution_count": 5,
   "id": "2d5009df-fd78-4a68-bb85-2dbd56698fcf",
   "metadata": {},
   "outputs": [
    {
     "data": {
      "text/plain": [
       "3.3333333333333335"
      ]
     },
     "execution_count": 5,
     "metadata": {},
     "output_type": "execute_result"
    }
   ],
   "source": [
    "200/60"
   ]
  },
  {
   "cell_type": "code",
   "execution_count": null,
   "id": "503d791b-0024-4858-b714-bcdb9ad31c7e",
   "metadata": {},
   "outputs": [],
   "source": []
  }
 ],
 "metadata": {
  "kernelspec": {
   "display_name": "Python [conda env:base] *",
   "language": "python",
   "name": "conda-base-py"
  },
  "language_info": {
   "codemirror_mode": {
    "name": "ipython",
    "version": 3
   },
   "file_extension": ".py",
   "mimetype": "text/x-python",
   "name": "python",
   "nbconvert_exporter": "python",
   "pygments_lexer": "ipython3",
   "version": "3.13.5"
  }
 },
 "nbformat": 4,
 "nbformat_minor": 5
}
